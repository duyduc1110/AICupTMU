{
 "cells": [
  {
   "cell_type": "code",
   "execution_count": 2,
   "metadata": {},
   "outputs": [],
   "source": [
    "import transformers\n",
    "import torch\n",
    "\n",
    "from transformers import DistilBertTokenizer, DistilBertModel, DistilBertConfig, DistilBertForSequenceClassification"
   ]
  },
  {
   "cell_type": "code",
   "execution_count": 16,
   "metadata": {},
   "outputs": [],
   "source": [
    "config = DistilBertConfig()\n",
    "t = DistilBertTokenizer.from_pretrained('distilbert-base-uncased')\n",
    "model = DistilBertModel(config)\n",
    "\n",
    "input_ids = torch.tensor([t.encode(\"Hello, my dog is cute ha ha\"),t.encode(\"Hello, my dog is a good boy\")])\n",
    "outputs = model(input_ids)\n",
    "last_hidden_states = outputs[0]"
   ]
  },
  {
   "cell_type": "code",
   "execution_count": 4,
   "metadata": {},
   "outputs": [
    {
     "data": {
      "text/plain": [
       "torch.Size([2, 8, 768])"
      ]
     },
     "execution_count": 4,
     "metadata": {},
     "output_type": "execute_result"
    }
   ],
   "source": [
    "outputs[0].shape"
   ]
  },
  {
   "cell_type": "code",
   "execution_count": 12,
   "metadata": {},
   "outputs": [
    {
     "data": {
      "text/plain": [
       "torch.Size([8, 768])"
      ]
     },
     "metadata": {},
     "output_type": "display_data"
    },
    {
     "data": {
      "text/plain": [
       "tensor([[ 1.6973, -0.1142,  0.1407,  ...,  0.2588,  1.4023, -0.3205],\n",
       "        [ 1.4036, -0.5345,  0.0118,  ..., -1.0310, -0.6088, -1.4046],\n",
       "        [ 1.2537, -2.0024,  1.0979,  ..., -1.1545,  1.1725,  0.3078],\n",
       "        ...,\n",
       "        [ 0.2278, -0.1613,  0.2404,  ..., -1.1451,  0.5133, -2.2251],\n",
       "        [ 0.0679,  1.4772, -1.2221,  ..., -2.1221, -2.0989,  0.7492],\n",
       "        [ 2.5700,  0.3279, -0.8972,  ..., -2.6088, -2.6312,  0.8684]],\n",
       "       grad_fn=<SelectBackward>)"
      ]
     },
     "metadata": {},
     "output_type": "display_data"
    }
   ],
   "source": [
    "display(last_hidden_states[0,:,:].shape)\n",
    "display(last_hidden_states[0])"
   ]
  }
 ],
 "metadata": {
  "kernelspec": {
   "display_name": "Python 3",
   "language": "python",
   "name": "python3"
  },
  "language_info": {
   "codemirror_mode": {
    "name": "ipython",
    "version": 3
   },
   "file_extension": ".py",
   "mimetype": "text/x-python",
   "name": "python",
   "nbconvert_exporter": "python",
   "pygments_lexer": "ipython3",
   "version": "3.7.1"
  }
 },
 "nbformat": 4,
 "nbformat_minor": 2
}
