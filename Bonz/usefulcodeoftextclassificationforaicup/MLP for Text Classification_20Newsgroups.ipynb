{
 "cells": [
  {
   "cell_type": "code",
   "execution_count": 53,
   "metadata": {},
   "outputs": [
    {
     "name": "stdout",
     "output_type": "stream",
     "text": [
      "[2034]\n",
      "[1353]\n"
     ]
    }
   ],
   "source": [
    "from sklearn.datasets import fetch_20newsgroups\n",
    "cats = ['alt.atheism', 'sci.space', 'talk.religion.misc', 'comp.graphics']\n",
    "training_data = fetch_20newsgroups(subset = 'train', categories = cats)\n",
    "test_data = fetch_20newsgroups(subset = 'test', categories = cats)\n",
    "print(list(training_data.filenames.shape))\n",
    "print(list(test_data.filenames.shape))"
   ]
  },
  {
   "cell_type": "code",
   "execution_count": 54,
   "metadata": {},
   "outputs": [],
   "source": [
    "from keras.preprocessing import sequence\n",
    "from keras.preprocessing.text import Tokenizer\n",
    "from keras.utils import np_utils\n",
    "\n",
    "training_data_text = training_data.data\n",
    "test_data_text = test_data.data\n",
    "\n",
    "token = Tokenizer(num_words = 2000)\n",
    "token.fit_on_texts(training_data_text)\n",
    "\n",
    "x_train_seq = token.texts_to_sequences(training_data_text)\n",
    "x_test_seq = token.texts_to_sequences(test_data_text)\n",
    "x_train = sequence.pad_sequences(x_train_seq, maxlen = 150)\n",
    "x_test = sequence.pad_sequences(x_test_seq, maxlen = 150)\n",
    "\n",
    "y_train = np_utils.to_categorical(training_data.target)\n",
    "y_test = np_utils.to_categorical(test_data.target)"
   ]
  },
  {
   "cell_type": "code",
   "execution_count": 55,
   "metadata": {},
   "outputs": [
    {
     "name": "stdout",
     "output_type": "stream",
     "text": [
      "_________________________________________________________________\n",
      "Layer (type)                 Output Shape              Param #   \n",
      "=================================================================\n",
      "embedding_10 (Embedding)     (None, 150, 32)           64000     \n",
      "_________________________________________________________________\n",
      "dropout_34 (Dropout)         (None, 150, 32)           0         \n",
      "_________________________________________________________________\n",
      "flatten_10 (Flatten)         (None, 4800)              0         \n",
      "_________________________________________________________________\n",
      "dense_33 (Dense)             (None, 256)               1229056   \n",
      "_________________________________________________________________\n",
      "dropout_35 (Dropout)         (None, 256)               0         \n",
      "_________________________________________________________________\n",
      "dense_34 (Dense)             (None, 128)               32896     \n",
      "_________________________________________________________________\n",
      "dropout_36 (Dropout)         (None, 128)               0         \n",
      "_________________________________________________________________\n",
      "dense_35 (Dense)             (None, 64)                8256      \n",
      "_________________________________________________________________\n",
      "dropout_37 (Dropout)         (None, 64)                0         \n",
      "_________________________________________________________________\n",
      "dense_36 (Dense)             (None, 4)                 260       \n",
      "=================================================================\n",
      "Total params: 1,334,468\n",
      "Trainable params: 1,334,468\n",
      "Non-trainable params: 0\n",
      "_________________________________________________________________\n"
     ]
    }
   ],
   "source": [
    "from keras.models import Sequential\n",
    "from keras.layers.core import Dense, Dropout, Activation, Flatten\n",
    "from keras.layers.embeddings import Embedding\n",
    "\n",
    "model = Sequential()\n",
    "model.add(Embedding(output_dim = 32, input_dim = 2000, input_length = 150))\n",
    "model.add(Dropout(0.35))\n",
    "model.add(Flatten())\n",
    "model.add(Dense(units = 256, activation = 'relu'))\n",
    "model.add(Dropout(0.35))\n",
    "model.add(Dense(units = 128, activation = 'relu'))\n",
    "model.add(Dropout(0.35))\n",
    "model.add(Dense(units = 64, activation = 'relu'))\n",
    "model.add(Dropout(0.35))\n",
    "model.add(Dense(units = len(cats), activation = 'softmax'))\n",
    "model.summary()"
   ]
  },
  {
   "cell_type": "code",
   "execution_count": 56,
   "metadata": {},
   "outputs": [
    {
     "name": "stdout",
     "output_type": "stream",
     "text": [
      "Train on 1627 samples, validate on 407 samples\n",
      "Epoch 1/10\n",
      " - 1s - loss: 1.3641 - acc: 0.3018 - val_loss: 1.3406 - val_acc: 0.3759\n",
      "Epoch 2/10\n",
      " - 1s - loss: 1.3056 - acc: 0.3872 - val_loss: 1.3132 - val_acc: 0.4128\n",
      "Epoch 3/10\n",
      " - 1s - loss: 1.2036 - acc: 0.5046 - val_loss: 1.1892 - val_acc: 0.5233\n",
      "Epoch 4/10\n",
      " - 1s - loss: 0.8304 - acc: 0.7056 - val_loss: 0.8236 - val_acc: 0.6708\n",
      "Epoch 5/10\n",
      " - 1s - loss: 0.3724 - acc: 0.8734 - val_loss: 0.7028 - val_acc: 0.7199\n",
      "Epoch 6/10\n",
      " - 1s - loss: 0.1566 - acc: 0.9533 - val_loss: 0.7694 - val_acc: 0.7371\n",
      "Epoch 7/10\n",
      " - 1s - loss: 0.0658 - acc: 0.9834 - val_loss: 0.8266 - val_acc: 0.7666\n",
      "Epoch 8/10\n",
      " - 1s - loss: 0.0400 - acc: 0.9896 - val_loss: 0.8124 - val_acc: 0.7666\n",
      "Epoch 9/10\n",
      " - 1s - loss: 0.0300 - acc: 0.9932 - val_loss: 0.9228 - val_acc: 0.7690\n",
      "Epoch 10/10\n",
      " - 1s - loss: 0.0241 - acc: 0.9951 - val_loss: 0.9023 - val_acc: 0.7715\n"
     ]
    }
   ],
   "source": [
    "model.compile(loss = 'categorical_crossentropy', \n",
    "              optimizer = 'adam', metrics = ['accuracy'])\n",
    "\n",
    "train_history = model.fit(x_train, y_train, batch_size = 100, \n",
    "                          epochs = 10, verbose = 2, validation_split = 0.2)"
   ]
  },
  {
   "cell_type": "code",
   "execution_count": 57,
   "metadata": {},
   "outputs": [
    {
     "name": "stdout",
     "output_type": "stream",
     "text": [
      "0.705838876703\n"
     ]
    }
   ],
   "source": [
    "score = model.evaluate(x_test, y_test, verbose = 0)\n",
    "print(score[1])"
   ]
  },
  {
   "cell_type": "code",
   "execution_count": null,
   "metadata": {
    "collapsed": true
   },
   "outputs": [],
   "source": [
    "# creates a HDF5 file 'my_model.h5'\n",
    "model.model.save('my_model.h5')\n",
    "\n",
    "\n",
    "# load our saved model\n",
    "from keras.models import load_model\n",
    "model = load_model('my_model.h5')"
   ]
  }
 ],
 "metadata": {
  "kernelspec": {
   "display_name": "Python 3",
   "language": "python",
   "name": "python3"
  },
  "language_info": {
   "codemirror_mode": {
    "name": "ipython",
    "version": 3
   },
   "file_extension": ".py",
   "mimetype": "text/x-python",
   "name": "python",
   "nbconvert_exporter": "python",
   "pygments_lexer": "ipython3",
   "version": "3.6.3"
  }
 },
 "nbformat": 4,
 "nbformat_minor": 2
}
