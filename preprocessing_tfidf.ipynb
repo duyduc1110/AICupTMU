{
 "cells": [
  {
   "cell_type": "markdown",
   "metadata": {},
   "source": [
    "======= For International Students ======= \n",
    "Write a program to construct dictionary of corpus EnglishDataset_Assignment1.txt. (there are 25000 IMDB movie reviews) You have to do:\n",
    " - Preprocessing: tokenization, stopword removal, remove punctuation, and stemming (simple normalization if needed).\n",
    " - Sort terms by term frequency and draw a figure to prof they follow Zipf‘s law (long-tail distribution). \n",
    " - Rank terms by global TF-IDF.\n",
    " - Save the result as a txt file. \n",
    "\n",
    "\n",
    "# Preprocessing Data\n",
    "\n",
    "## Import all needed packages\n",
    "Please install all packages first\n",
    "\n",
    "!!! Use `nltk.download()` to download all NLTK dataset to 'C:\\nltk_data' if you don't have\n",
    "\n",
    "Please refer to this link: https://www.nltk.org/data.html"
   ]
  },
  {
   "cell_type": "code",
   "execution_count": 2,
   "metadata": {
    "scrolled": true
   },
   "outputs": [],
   "source": [
    "\n",
    "import operator\n",
    "import nltk\n",
    "import os\n",
    "import string\n",
    "import inflect\n",
    "import logging\n",
    "import numpy, matplotlib\n",
    "import math\n",
    "import pandas as pd\n",
    "from matplotlib import pyplot as plt\n",
    "from nltk import word_tokenize, sent_tokenize\n",
    "from nltk.corpus import stopwords\n",
    "from nltk.stem import LancasterStemmer, PorterStemmer, SnowballStemmer, WordNetLemmatizer\n",
    "from nltk.probability import FreqDist"
   ]
  },
  {
   "cell_type": "markdown",
   "metadata": {},
   "source": [
    "## Read data, remove non ascii character, lowercase all word"
   ]
  },
  {
   "cell_type": "code",
   "execution_count": 2,
   "metadata": {
    "scrolled": true
   },
   "outputs": [],
   "source": [
    "with open('data.txt', encoding='utf8') as f:\n",
    "    data = f.read().split('\\n')\n",
    "    f.close()\n",
    "data = [s.encode('ascii', errors = 'ignore').decode() for s in data] #Remove non ascii characters\n",
    "data = [s.lower() for s in data] #Lowercase all words\n"
   ]
  },
  {
   "cell_type": "code",
   "execution_count": null,
   "metadata": {},
   "outputs": [],
   "source": [
    "with open('task2_trainset.csv', encoding='utf-8') as f:\n",
    "    data = f.read().split('\\n')\n",
    "    data = [row.split(',') for row in data]"
   ]
  },
  {
   "cell_type": "markdown",
   "metadata": {},
   "source": [
    "## Tokenization by using NLTK"
   ]
  },
  {
   "cell_type": "code",
   "execution_count": 3,
   "metadata": {
    "scrolled": true
   },
   "outputs": [
    {
     "data": {
      "text/plain": [
       "25001"
      ]
     },
     "execution_count": 3,
     "metadata": {},
     "output_type": "execute_result"
    }
   ],
   "source": [
    "words = [nltk.word_tokenize(s) for s in data]\n",
    "len(words)"
   ]
  },
  {
   "cell_type": "markdown",
   "metadata": {},
   "source": [
    "## Normalization\n",
    "1. Remove punctuation and whitespace words\n",
    "2. Replace number\n",
    "3. Remove stop words\n",
    "4. Stemming\n",
    "5. Lemmatization"
   ]
  },
  {
   "cell_type": "code",
   "execution_count": 4,
   "metadata": {
    "scrolled": true
   },
   "outputs": [],
   "source": [
    "def remove_breakline(words): #I found out cleaning & normalization can not remove HTML breakline character <br></br>\n",
    "    return [w for w in words if w != 'br']\n",
    "\n",
    "def remove_punctuation_whitespace(words): #Remove all punctuation and whitespace characters\n",
    "    pun_and_ws = string.punctuation+string.whitespace\n",
    "    new_words = [''.join(c for c in w if c not in pun_and_ws) for w in words]\n",
    "    new_words = [w for w in new_words if w != '']\n",
    "    return new_words\n",
    "\n",
    "def replace_number(words): #Converse number to text. Eg: '1' to 'one'\n",
    "    p = inflect.engine()\n",
    "    new_words = [p.number_to_words(w) if w.isdigit() else w for w in words]\n",
    "    return new_words\n",
    "\n",
    "def remove_stopwords(words): #Remove stopwords by using nltk.corpus.stopwords\n",
    "    stop_words = stopwords.words('english')\n",
    "    new_words = [w for w in words if w not in stop_words]\n",
    "    return new_words\n",
    "\n",
    "# I decided to ignore stemming step because it caused a lot of bugs like: 'comedy' -> 'comedi'\n",
    "\"\"\"\n",
    "def stem_words(words): #Porter seems to be better than Lancaster\n",
    "    stemmer = LancasterStemmer()\n",
    "    new_words = [stemmer.stem(w) for w in words]\n",
    "    return new_words\n",
    "\"\"\"\n",
    "\n",
    "def lemmatize_verbs(words):\n",
    "    lemmatizer = WordNetLemmatizer()\n",
    "    new_words = [lemmatizer.lemmatize(w) for w in words]\n",
    "    return new_words\n",
    "\n",
    "def normalize(words):   \n",
    "    words = [remove_breakline(w) for w in words]\n",
    "    words = [remove_punctuation_whitespace(w) for w in words]\n",
    "    words = [replace_number(w) for w in words]\n",
    "    words = [remove_stopwords(w) for w in words]\n",
    "    # words = [stem_words(w) for w in words] \n",
    "    # I decided to ignore stemming step because it caused a lot of bugs like: 'comedy' -> 'comedi'\n",
    "    words = [lemmatize_verbs(w) for w in words]\n",
    "    return words\n",
    "\n",
    "if __name__ == \"__main__\":\n",
    "    words = normalize(words)\n"
   ]
  },
  {
   "cell_type": "markdown",
   "metadata": {},
   "source": [
    "# Data Representation\n",
    "1. Get a dic of word frequency. \n",
    "> Since there is the word 'would' in top 10, nltk.stopwords doesn't seem good\n",
    "2. Plot a line chart, it's look like Zipf's law"
   ]
  },
  {
   "cell_type": "code",
   "execution_count": 5,
   "metadata": {},
   "outputs": [
    {
     "name": "stdout",
     "output_type": "stream",
     "text": [
      "Top 100 high frequency words: \n",
      "[('movie', 50933), ('film', 46359), ('nt', 33382), ('one', 28424), ('like', 20257), ('time', 15429), ('good', 14862), ('character', 14062), ('would', 13393), ('story', 12948), ('even', 12608), ('get', 12464), ('make', 11945), ('see', 11859), ('really', 11728), ('scene', 10473), ('well', 9808), ('much', 9693), ('could', 9395), ('people', 9354), ('bad', 9136), ('also', 9122), ('great', 9030), ('two', 8957), ('first', 8909), ('way', 8702), ('show', 8510), ('thing', 8188), ('made', 8083), ('think', 7719), ('life', 7656), ('go', 7485), ('watch', 7025), ('know', 7022), ('love', 6730), ('actor', 6709), ('many', 6666), ('plot', 6657), ('seen', 6646), ('end', 6553), ('look', 6497), ('say', 6496), ('never', 6442), ('year', 6423), ('acting', 6422), ('little', 6407), ('best', 6343), ('ever', 5890), ('better', 5707), ('man', 5676), ('come', 5649), ('take', 5641), ('still', 5627), ('work', 5500), ('part', 5150), ('find', 5074), ('something', 5012), ('want', 4984), ('give', 4947), ('back', 4903), ('director', 4774), ('lot', 4766), ('performance', 4694), ('watching', 4576), ('woman', 4571), ('real', 4567), ('though', 4547), ('play', 4389), ('another', 4319), ('nothing', 4272), ('guy', 4263), ('role', 4254), ('new', 4252), ('actually', 4237), ('funny', 4222), ('u', 4155), ('old', 4109), ('going', 4060), ('every', 3965), ('point', 3960), ('girl', 3935), ('world', 3870), ('cast', 3838), ('day', 3787), ('fact', 3728), ('quite', 3725), ('got', 3715), ('feel', 3684), ('pretty', 3651), ('young', 3643), ('three', 3630), ('seems', 3616), ('minute', 3589), ('around', 3589), ('ca', 3555), ('thought', 3534), ('comedy', 3532), ('however', 3515), ('star', 3503), ('horror', 3481)]\n",
      "\n",
      "Top 100 high TF-IDF words: \n",
      "[('film', 10894.589876297603), ('movie', 9714.30186932512), ('nt', 7562.783742728595), ('character', 6782.015086522683), ('like', 6688.45669492934), ('one', 6632.367790471195), ('story', 6475.43008749284), ('show', 6260.567565888755), ('good', 6225.163893817168), ('would', 6224.03850585394), ('time', 6130.040854071858), ('scene', 6121.57151074254), ('really', 6049.671366795459), ('get', 5989.661353020609), ('even', 5976.045939199871), ('bad', 5773.869367786833), ('make', 5715.215357816665), ('see', 5693.943474688748), ('people', 5628.583038060393), ('great', 5405.50998077226), ('well', 5391.522974506495), ('two', 5380.9993506429655), ('also', 5378.434683283779), ('much', 5327.709726287712), ('first', 5316.530792148976), ('could', 5296.817348435106), ('life', 5255.1029899520645), ('way', 5133.736895843727), ('thing', 5054.289505230213), ('think', 4951.533295489405), ('love', 4941.545940226831), ('made', 4898.753073662358), ('go', 4827.731550334902), ('know', 4740.389074845809), ('actor', 4687.176290564526), ('look', 4643.016847828485), ('man', 4634.243067426521), ('many', 4623.772505051493), ('watch', 4617.939017731434), ('plot', 4606.69848883374), ('year', 4591.290456891915), ('little', 4579.276225218134), ('say', 4530.483993421921), ('end', 4517.4189035505715), ('best', 4513.610781669489), ('never', 4507.356619692967), ('seen', 4471.846561062993), ('acting', 4315.353586212598), ('ever', 4259.577709261036), ('work', 4243.32895124926), ('still', 4228.992410387362), ('take', 4227.377948072904), ('better', 4192.015030926843), ('come', 4177.260374192223), ('woman', 4169.181904865452), ('part', 4136.652183524825), ('find', 4047.7686519261947), ('performance', 3992.490714528451), ('something', 3973.854006130203), ('director', 3970.238659456509), ('want', 3964.5891435022863), ('guy', 3962.298021909235), ('back', 3960.567641332631), ('give', 3882.681954938614), ('lot', 3880.9789242637466), ('play', 3870.8835961115988), ('though', 3838.0060851826793), ('role', 3835.3269611931837), ('real', 3831.2062733987245), ('funny', 3829.422289782259), ('girl', 3828.410709349082), ('u', 3826.6756991008174), ('new', 3806.6336347812166), ('horror', 3775.921070752298), ('series', 3740.63893582649), ('watching', 3737.6973377176514), ('nothing', 3690.1719948852196), ('old', 3660.7553850429917), ('actually', 3649.2124616052897), ('another', 3629.384802153226), ('world', 3623.5151025964733), ('point', 3565.8803772366077), ('comedy', 3564.3035541384447), ('family', 3561.859806529249), ('going', 3541.9209466453112), ('young', 3517.788588509438), ('original', 3495.86537631391), ('every', 3492.2192767402657), ('action', 3470.0223508228596), ('day', 3448.73593358352), ('quite', 3417.759142649612), ('three', 3413.023399644137), ('pretty', 3412.995849571391), ('feel', 3410.057147671476), ('cast', 3408.4629189906077), ('star', 3402.9757539438106), ('minute', 3390.309514764034), ('seems', 3383.5243397319864), ('fact', 3381.3562994571917), ('book', 3376.3782521257244)]\n",
      "\n",
      "Frequency Distribution: \n",
      " [<matplotlib.lines.Line2D object at 0x000002D06D43A898>]\n"
     ]
    },
    {
     "data": {
      "image/png": "[encoded data removed]",
      "text/plain": [
       "<Figure size 432x288 with 1 Axes>"
      ]
     },
     "metadata": {
      "needs_background": "light"
     },
     "output_type": "display_data"
    }
   ],
   "source": [
    "def get_frequency(words):\n",
    "    frequency = {}\n",
    "    for s in words:\n",
    "        for w in s:\n",
    "            if w in frequency:\n",
    "                frequency[w] += 1\n",
    "            else:\n",
    "                frequency[w] = 0\n",
    "    return frequency\n",
    "\n",
    "def nltk_freqdist(words):\n",
    "    new_words = [small_w for w in words for small_w in w]\n",
    "    return FreqDist(new_words)\n",
    "\n",
    "def print_sorted_tf(tf, number):\n",
    "    sorted_frequency = sorted(tf.items(), key = operator.itemgetter(1), reverse=True)\n",
    "    print('Top {} high frequency words: \\n{}\\n'.format(number, sorted_frequency[0:number]))\n",
    "    \n",
    "def print_plot_freqdist(tf, number):\n",
    "    x = range(number)\n",
    "    y = sorted(list(tf.values()), reverse=True)[:number]\n",
    "    print('Frequency Distribution: \\n', plt.plot(x,y))\n",
    "    \n",
    "def get_tfidf(tf, words):\n",
    "    tfidf = dict([(w,0) for w in tf.keys()])\n",
    "    #Calculate df\n",
    "    for w in words:\n",
    "        distinct_w = set(w)\n",
    "        for key in distinct_w:\n",
    "            tfidf[key]+=1\n",
    "    #Calculate idf & tfidf\n",
    "    for key in tfidf:\n",
    "        tfidf[key] = math.log10(len(words)/tfidf[key])\n",
    "        tfidf[key] *= tf[key]\n",
    "    return tfidf\n",
    "\n",
    "def print_sorted_tfidf(tfidf, number):\n",
    "    sorted_tfidf = sorted(tfidf.items(), key = operator.itemgetter(1), reverse=True)\n",
    "    print('Top {} high TF-IDF words: \\n{}\\n'.format(number, sorted_tfidf[0:number]))\n",
    "    return sorted_tfidf\n",
    "        \n",
    "if __name__ == \"__main__\":\n",
    "    #frequency = get_frequency(words) #normal way\n",
    "    tf = nltk_freqdist(words) #I found this shorter way with nltk \n",
    "    print_sorted_tf(tf, 100)\n",
    "    tfidf = get_tfidf(tf, words)\n",
    "    sorted_tfidf = print_sorted_tfidf(tfidf, 100)\n",
    "    print_plot_freqdist(tf, 100)"
   ]
  },
  {
   "cell_type": "markdown",
   "metadata": {},
   "source": [
    "# Save file"
   ]
  },
  {
   "cell_type": "code",
   "execution_count": 6,
   "metadata": {},
   "outputs": [],
   "source": [
    "f = open('tfidf.txt', 'w', encoding='utf-8')\n",
    "for w in sorted_tfidf:\n",
    "    f.write('{}: {}\\n'.format(w[0], w[1]))\n",
    "f.close()"
   ]
  }
 ],
 "metadata": {
  "kernelspec": {
   "display_name": "Python 3",
   "language": "python",
   "name": "python3"
  },
  "language_info": {
   "codemirror_mode": {
    "name": "ipython",
    "version": 3
   },
   "file_extension": ".py",
   "mimetype": "text/x-python",
   "name": "python",
   "nbconvert_exporter": "python",
   "pygments_lexer": "ipython3",
   "version": "3.7.3"
  }
 },
 "nbformat": 4,
 "nbformat_minor": 2
}
